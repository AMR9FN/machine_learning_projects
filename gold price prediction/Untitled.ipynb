{
 "cells": [
  {
   "cell_type": "markdown",
   "id": "9195f065",
   "metadata": {},
   "source": [
    "# importing libraries"
   ]
  },
  {
   "cell_type": "code",
   "execution_count": 22,
   "id": "201ea780",
   "metadata": {},
   "outputs": [],
   "source": [
    "import numpy as np \n",
    "import pandas as pd \n",
    "import matplotlib.pyplot as plt\n",
    "import seaborn as sns\n",
    "from sklearn.model_selection import train_test_split\n",
    "from sklearn.ensemble import RandomForestRegressor\n",
    "from sklearn import metrics"
   ]
  },
  {
   "cell_type": "code",
   "execution_count": 23,
   "id": "68d5da3e",
   "metadata": {},
   "outputs": [],
   "source": [
    "# loading the csv data to pandas data frame\n",
    "gold_data = pd.read_csv('gld_price_data.csv')"
   ]
  },
  {
   "cell_type": "code",
   "execution_count": 24,
   "id": "80102d16",
   "metadata": {},
   "outputs": [
    {
     "data": {
      "text/html": [
       "<div>\n",
       "<style scoped>\n",
       "    .dataframe tbody tr th:only-of-type {\n",
       "        vertical-align: middle;\n",
       "    }\n",
       "\n",
       "    .dataframe tbody tr th {\n",
       "        vertical-align: top;\n",
       "    }\n",
       "\n",
       "    .dataframe thead th {\n",
       "        text-align: right;\n",
       "    }\n",
       "</style>\n",
       "<table border=\"1\" class=\"dataframe\">\n",
       "  <thead>\n",
       "    <tr style=\"text-align: right;\">\n",
       "      <th></th>\n",
       "      <th>Date</th>\n",
       "      <th>SPX</th>\n",
       "      <th>GLD</th>\n",
       "      <th>USO</th>\n",
       "      <th>SLV</th>\n",
       "      <th>EUR/USD</th>\n",
       "    </tr>\n",
       "  </thead>\n",
       "  <tbody>\n",
       "    <tr>\n",
       "      <th>0</th>\n",
       "      <td>1/2/2008</td>\n",
       "      <td>1447.160034</td>\n",
       "      <td>84.860001</td>\n",
       "      <td>78.470001</td>\n",
       "      <td>15.180</td>\n",
       "      <td>1.471692</td>\n",
       "    </tr>\n",
       "    <tr>\n",
       "      <th>1</th>\n",
       "      <td>1/3/2008</td>\n",
       "      <td>1447.160034</td>\n",
       "      <td>85.570000</td>\n",
       "      <td>78.370003</td>\n",
       "      <td>15.285</td>\n",
       "      <td>1.474491</td>\n",
       "    </tr>\n",
       "    <tr>\n",
       "      <th>2</th>\n",
       "      <td>1/4/2008</td>\n",
       "      <td>1411.630005</td>\n",
       "      <td>85.129997</td>\n",
       "      <td>77.309998</td>\n",
       "      <td>15.167</td>\n",
       "      <td>1.475492</td>\n",
       "    </tr>\n",
       "    <tr>\n",
       "      <th>3</th>\n",
       "      <td>1/7/2008</td>\n",
       "      <td>1416.180054</td>\n",
       "      <td>84.769997</td>\n",
       "      <td>75.500000</td>\n",
       "      <td>15.053</td>\n",
       "      <td>1.468299</td>\n",
       "    </tr>\n",
       "    <tr>\n",
       "      <th>4</th>\n",
       "      <td>1/8/2008</td>\n",
       "      <td>1390.189941</td>\n",
       "      <td>86.779999</td>\n",
       "      <td>76.059998</td>\n",
       "      <td>15.590</td>\n",
       "      <td>1.557099</td>\n",
       "    </tr>\n",
       "  </tbody>\n",
       "</table>\n",
       "</div>"
      ],
      "text/plain": [
       "       Date          SPX        GLD        USO     SLV   EUR/USD\n",
       "0  1/2/2008  1447.160034  84.860001  78.470001  15.180  1.471692\n",
       "1  1/3/2008  1447.160034  85.570000  78.370003  15.285  1.474491\n",
       "2  1/4/2008  1411.630005  85.129997  77.309998  15.167  1.475492\n",
       "3  1/7/2008  1416.180054  84.769997  75.500000  15.053  1.468299\n",
       "4  1/8/2008  1390.189941  86.779999  76.059998  15.590  1.557099"
      ]
     },
     "execution_count": 24,
     "metadata": {},
     "output_type": "execute_result"
    }
   ],
   "source": [
    "# print first 5 rows in the dataframe\n",
    "gold_data.head()"
   ]
  },
  {
   "cell_type": "code",
   "execution_count": 25,
   "id": "e56a06eb",
   "metadata": {},
   "outputs": [
    {
     "data": {
      "text/html": [
       "<div>\n",
       "<style scoped>\n",
       "    .dataframe tbody tr th:only-of-type {\n",
       "        vertical-align: middle;\n",
       "    }\n",
       "\n",
       "    .dataframe tbody tr th {\n",
       "        vertical-align: top;\n",
       "    }\n",
       "\n",
       "    .dataframe thead th {\n",
       "        text-align: right;\n",
       "    }\n",
       "</style>\n",
       "<table border=\"1\" class=\"dataframe\">\n",
       "  <thead>\n",
       "    <tr style=\"text-align: right;\">\n",
       "      <th></th>\n",
       "      <th>Date</th>\n",
       "      <th>SPX</th>\n",
       "      <th>GLD</th>\n",
       "      <th>USO</th>\n",
       "      <th>SLV</th>\n",
       "      <th>EUR/USD</th>\n",
       "    </tr>\n",
       "  </thead>\n",
       "  <tbody>\n",
       "    <tr>\n",
       "      <th>2285</th>\n",
       "      <td>5/8/2018</td>\n",
       "      <td>2671.919922</td>\n",
       "      <td>124.589996</td>\n",
       "      <td>14.0600</td>\n",
       "      <td>15.5100</td>\n",
       "      <td>1.186789</td>\n",
       "    </tr>\n",
       "    <tr>\n",
       "      <th>2286</th>\n",
       "      <td>5/9/2018</td>\n",
       "      <td>2697.790039</td>\n",
       "      <td>124.330002</td>\n",
       "      <td>14.3700</td>\n",
       "      <td>15.5300</td>\n",
       "      <td>1.184722</td>\n",
       "    </tr>\n",
       "    <tr>\n",
       "      <th>2287</th>\n",
       "      <td>5/10/2018</td>\n",
       "      <td>2723.070068</td>\n",
       "      <td>125.180000</td>\n",
       "      <td>14.4100</td>\n",
       "      <td>15.7400</td>\n",
       "      <td>1.191753</td>\n",
       "    </tr>\n",
       "    <tr>\n",
       "      <th>2288</th>\n",
       "      <td>5/14/2018</td>\n",
       "      <td>2730.129883</td>\n",
       "      <td>124.489998</td>\n",
       "      <td>14.3800</td>\n",
       "      <td>15.5600</td>\n",
       "      <td>1.193118</td>\n",
       "    </tr>\n",
       "    <tr>\n",
       "      <th>2289</th>\n",
       "      <td>5/16/2018</td>\n",
       "      <td>2725.780029</td>\n",
       "      <td>122.543800</td>\n",
       "      <td>14.4058</td>\n",
       "      <td>15.4542</td>\n",
       "      <td>1.182033</td>\n",
       "    </tr>\n",
       "  </tbody>\n",
       "</table>\n",
       "</div>"
      ],
      "text/plain": [
       "           Date          SPX         GLD      USO      SLV   EUR/USD\n",
       "2285   5/8/2018  2671.919922  124.589996  14.0600  15.5100  1.186789\n",
       "2286   5/9/2018  2697.790039  124.330002  14.3700  15.5300  1.184722\n",
       "2287  5/10/2018  2723.070068  125.180000  14.4100  15.7400  1.191753\n",
       "2288  5/14/2018  2730.129883  124.489998  14.3800  15.5600  1.193118\n",
       "2289  5/16/2018  2725.780029  122.543800  14.4058  15.4542  1.182033"
      ]
     },
     "execution_count": 25,
     "metadata": {},
     "output_type": "execute_result"
    }
   ],
   "source": [
    "# print the last 5 rows in the dataframe\n",
    "gold_data.tail()"
   ]
  },
  {
   "cell_type": "code",
   "execution_count": 26,
   "id": "a8edf44c",
   "metadata": {},
   "outputs": [
    {
     "data": {
      "text/plain": [
       "(2290, 6)"
      ]
     },
     "execution_count": 26,
     "metadata": {},
     "output_type": "execute_result"
    }
   ],
   "source": [
    "# number of rows and columns\n",
    "gold_data.shape"
   ]
  },
  {
   "cell_type": "code",
   "execution_count": 27,
   "id": "7a2c6716",
   "metadata": {},
   "outputs": [
    {
     "name": "stdout",
     "output_type": "stream",
     "text": [
      "<class 'pandas.core.frame.DataFrame'>\n",
      "RangeIndex: 2290 entries, 0 to 2289\n",
      "Data columns (total 6 columns):\n",
      " #   Column   Non-Null Count  Dtype  \n",
      "---  ------   --------------  -----  \n",
      " 0   Date     2290 non-null   object \n",
      " 1   SPX      2290 non-null   float64\n",
      " 2   GLD      2290 non-null   float64\n",
      " 3   USO      2290 non-null   float64\n",
      " 4   SLV      2290 non-null   float64\n",
      " 5   EUR/USD  2290 non-null   float64\n",
      "dtypes: float64(5), object(1)\n",
      "memory usage: 107.5+ KB\n"
     ]
    }
   ],
   "source": [
    "# getting some basic information about the data\n",
    "gold_data.info()"
   ]
  },
  {
   "cell_type": "code",
   "execution_count": 28,
   "id": "bc264026",
   "metadata": {},
   "outputs": [
    {
     "data": {
      "text/plain": [
       "Date       0\n",
       "SPX        0\n",
       "GLD        0\n",
       "USO        0\n",
       "SLV        0\n",
       "EUR/USD    0\n",
       "dtype: int64"
      ]
     },
     "execution_count": 28,
     "metadata": {},
     "output_type": "execute_result"
    }
   ],
   "source": [
    "# cheaking for missing values\n",
    "gold_data.isnull().sum()"
   ]
  },
  {
   "cell_type": "code",
   "execution_count": 29,
   "id": "75845b0a",
   "metadata": {},
   "outputs": [
    {
     "data": {
      "text/html": [
       "<div>\n",
       "<style scoped>\n",
       "    .dataframe tbody tr th:only-of-type {\n",
       "        vertical-align: middle;\n",
       "    }\n",
       "\n",
       "    .dataframe tbody tr th {\n",
       "        vertical-align: top;\n",
       "    }\n",
       "\n",
       "    .dataframe thead th {\n",
       "        text-align: right;\n",
       "    }\n",
       "</style>\n",
       "<table border=\"1\" class=\"dataframe\">\n",
       "  <thead>\n",
       "    <tr style=\"text-align: right;\">\n",
       "      <th></th>\n",
       "      <th>SPX</th>\n",
       "      <th>GLD</th>\n",
       "      <th>USO</th>\n",
       "      <th>SLV</th>\n",
       "      <th>EUR/USD</th>\n",
       "    </tr>\n",
       "  </thead>\n",
       "  <tbody>\n",
       "    <tr>\n",
       "      <th>count</th>\n",
       "      <td>2290.000000</td>\n",
       "      <td>2290.000000</td>\n",
       "      <td>2290.000000</td>\n",
       "      <td>2290.000000</td>\n",
       "      <td>2290.000000</td>\n",
       "    </tr>\n",
       "    <tr>\n",
       "      <th>mean</th>\n",
       "      <td>1654.315776</td>\n",
       "      <td>122.732875</td>\n",
       "      <td>31.842221</td>\n",
       "      <td>20.084997</td>\n",
       "      <td>1.283653</td>\n",
       "    </tr>\n",
       "    <tr>\n",
       "      <th>std</th>\n",
       "      <td>519.111540</td>\n",
       "      <td>23.283346</td>\n",
       "      <td>19.523517</td>\n",
       "      <td>7.092566</td>\n",
       "      <td>0.131547</td>\n",
       "    </tr>\n",
       "    <tr>\n",
       "      <th>min</th>\n",
       "      <td>676.530029</td>\n",
       "      <td>70.000000</td>\n",
       "      <td>7.960000</td>\n",
       "      <td>8.850000</td>\n",
       "      <td>1.039047</td>\n",
       "    </tr>\n",
       "    <tr>\n",
       "      <th>25%</th>\n",
       "      <td>1239.874969</td>\n",
       "      <td>109.725000</td>\n",
       "      <td>14.380000</td>\n",
       "      <td>15.570000</td>\n",
       "      <td>1.171313</td>\n",
       "    </tr>\n",
       "    <tr>\n",
       "      <th>50%</th>\n",
       "      <td>1551.434998</td>\n",
       "      <td>120.580002</td>\n",
       "      <td>33.869999</td>\n",
       "      <td>17.268500</td>\n",
       "      <td>1.303297</td>\n",
       "    </tr>\n",
       "    <tr>\n",
       "      <th>75%</th>\n",
       "      <td>2073.010070</td>\n",
       "      <td>132.840004</td>\n",
       "      <td>37.827501</td>\n",
       "      <td>22.882500</td>\n",
       "      <td>1.369971</td>\n",
       "    </tr>\n",
       "    <tr>\n",
       "      <th>max</th>\n",
       "      <td>2872.870117</td>\n",
       "      <td>184.589996</td>\n",
       "      <td>117.480003</td>\n",
       "      <td>47.259998</td>\n",
       "      <td>1.598798</td>\n",
       "    </tr>\n",
       "  </tbody>\n",
       "</table>\n",
       "</div>"
      ],
      "text/plain": [
       "               SPX          GLD          USO          SLV      EUR/USD\n",
       "count  2290.000000  2290.000000  2290.000000  2290.000000  2290.000000\n",
       "mean   1654.315776   122.732875    31.842221    20.084997     1.283653\n",
       "std     519.111540    23.283346    19.523517     7.092566     0.131547\n",
       "min     676.530029    70.000000     7.960000     8.850000     1.039047\n",
       "25%    1239.874969   109.725000    14.380000    15.570000     1.171313\n",
       "50%    1551.434998   120.580002    33.869999    17.268500     1.303297\n",
       "75%    2073.010070   132.840004    37.827501    22.882500     1.369971\n",
       "max    2872.870117   184.589996   117.480003    47.259998     1.598798"
      ]
     },
     "execution_count": 29,
     "metadata": {},
     "output_type": "execute_result"
    }
   ],
   "source": [
    "# getting some statistical measures of the data\n",
    "gold_data.describe()"
   ]
  },
  {
   "cell_type": "markdown",
   "id": "834ac69b",
   "metadata": {},
   "source": [
    "# correlation \n",
    "\n",
    "## positive correlation \n",
    "\n",
    "## negative correlation "
   ]
  },
  {
   "cell_type": "code",
   "execution_count": 30,
   "id": "a73053f5",
   "metadata": {},
   "outputs": [],
   "source": [
    "correlation = gold_data.corr()"
   ]
  },
  {
   "cell_type": "code",
   "execution_count": 31,
   "id": "c19b84c7",
   "metadata": {},
   "outputs": [
    {
     "data": {
      "text/plain": [
       "<AxesSubplot:>"
      ]
     },
     "execution_count": 31,
     "metadata": {},
     "output_type": "execute_result"
    },
    {
     "data": {
      "image/png": "[encoded data removed]",
      "text/plain": [
       "<Figure size 576x576 with 2 Axes>"
      ]
     },
     "metadata": {
      "needs_background": "light"
     },
     "output_type": "display_data"
    }
   ],
   "source": [
    "# constructing a heatmap to understand the correlation\n",
    "plt.figure(figsize = (8,8))\n",
    "sns.heatmap(correlation, cbar=True, square=True, fmt='.1f', annot=True, annot_kws={'size':8}, cmap='Blues')"
   ]
  },
  {
   "cell_type": "code",
   "execution_count": 32,
   "id": "2c4030da",
   "metadata": {},
   "outputs": [
    {
     "name": "stdout",
     "output_type": "stream",
     "text": [
      "SPX        0.049345\n",
      "GLD        1.000000\n",
      "USO       -0.186360\n",
      "SLV        0.866632\n",
      "EUR/USD   -0.024375\n",
      "Name: GLD, dtype: float64\n"
     ]
    }
   ],
   "source": [
    "# correlation value of gld\n",
    "print(correlation['GLD'])"
   ]
  },
  {
   "cell_type": "code",
   "execution_count": 35,
   "id": "0aa25de3",
   "metadata": {},
   "outputs": [
    {
     "name": "stderr",
     "output_type": "stream",
     "text": [
      "/home/absurd/anaconda3/lib/python3.9/site-packages/seaborn/distributions.py:2619: FutureWarning: `distplot` is a deprecated function and will be removed in a future version. Please adapt your code to use either `displot` (a figure-level function with similar flexibility) or `histplot` (an axes-level function for histograms).\n",
      "  warnings.warn(msg, FutureWarning)\n"
     ]
    },
    {
     "data": {
      "text/plain": [
       "<AxesSubplot:xlabel='GLD', ylabel='Density'>"
      ]
     },
     "execution_count": 35,
     "metadata": {},
     "output_type": "execute_result"
    },
    {
     "data": {
      "image/png": "[encoded data removed]",
      "text/plain": [
       "<Figure size 432x288 with 1 Axes>"
      ]
     },
     "metadata": {
      "needs_background": "light"
     },
     "output_type": "display_data"
    }
   ],
   "source": [
    "# cheaking the distribution of GLD price\n",
    "sns.distplot(gold_data['GLD'], color='green')"
   ]
  },
  {
   "cell_type": "markdown",
   "id": "31a2ab30",
   "metadata": {},
   "source": [
    "# splitting the features and target"
   ]
  },
  {
   "cell_type": "code",
   "execution_count": 38,
   "id": "10095e27",
   "metadata": {},
   "outputs": [],
   "source": [
    "x = gold_data.drop(['Date','GLD'], axis=1)\n",
    "y = gold_data['GLD']"
   ]
  },
  {
   "cell_type": "code",
   "execution_count": 39,
   "id": "8b0c3e31",
   "metadata": {},
   "outputs": [
    {
     "name": "stdout",
     "output_type": "stream",
     "text": [
      "              SPX        USO      SLV   EUR/USD\n",
      "0     1447.160034  78.470001  15.1800  1.471692\n",
      "1     1447.160034  78.370003  15.2850  1.474491\n",
      "2     1411.630005  77.309998  15.1670  1.475492\n",
      "3     1416.180054  75.500000  15.0530  1.468299\n",
      "4     1390.189941  76.059998  15.5900  1.557099\n",
      "...           ...        ...      ...       ...\n",
      "2285  2671.919922  14.060000  15.5100  1.186789\n",
      "2286  2697.790039  14.370000  15.5300  1.184722\n",
      "2287  2723.070068  14.410000  15.7400  1.191753\n",
      "2288  2730.129883  14.380000  15.5600  1.193118\n",
      "2289  2725.780029  14.405800  15.4542  1.182033\n",
      "\n",
      "[2290 rows x 4 columns]\n"
     ]
    }
   ],
   "source": [
    "print(x)"
   ]
  },
  {
   "cell_type": "code",
   "execution_count": 40,
   "id": "a729c85a",
   "metadata": {},
   "outputs": [
    {
     "name": "stdout",
     "output_type": "stream",
     "text": [
      "0        84.860001\n",
      "1        85.570000\n",
      "2        85.129997\n",
      "3        84.769997\n",
      "4        86.779999\n",
      "           ...    \n",
      "2285    124.589996\n",
      "2286    124.330002\n",
      "2287    125.180000\n",
      "2288    124.489998\n",
      "2289    122.543800\n",
      "Name: GLD, Length: 2290, dtype: float64\n"
     ]
    }
   ],
   "source": [
    "print(y)"
   ]
  },
  {
   "cell_type": "code",
   "execution_count": 41,
   "id": "44766f37",
   "metadata": {},
   "outputs": [],
   "source": [
    "x_train, x_test , y_train , y_test = train_test_split(x,y, test_size=0.2 , random_state=2)"
   ]
  },
  {
   "cell_type": "markdown",
   "id": "61a79b14",
   "metadata": {},
   "source": [
    "# model training ; random forest regressor"
   ]
  },
  {
   "cell_type": "code",
   "execution_count": 42,
   "id": "8c75146b",
   "metadata": {},
   "outputs": [],
   "source": [
    "regressor = RandomForestRegressor(n_estimators=100)"
   ]
  },
  {
   "cell_type": "code",
   "execution_count": 43,
   "id": "178eba49",
   "metadata": {},
   "outputs": [
    {
     "data": {
      "text/plain": [
       "RandomForestRegressor()"
      ]
     },
     "execution_count": 43,
     "metadata": {},
     "output_type": "execute_result"
    }
   ],
   "source": [
    "regressor.fit(x_train,y_train)"
   ]
  },
  {
   "cell_type": "markdown",
   "id": "a3ff43d5",
   "metadata": {},
   "source": [
    "# model evaluation"
   ]
  },
  {
   "cell_type": "code",
   "execution_count": 44,
   "id": "b33f5b12",
   "metadata": {},
   "outputs": [],
   "source": [
    "# prediction on test data\n",
    "test_data_prediction = regressor.predict(x_test)"
   ]
  },
  {
   "cell_type": "code",
   "execution_count": 45,
   "id": "89da7cc5",
   "metadata": {},
   "outputs": [
    {
     "name": "stdout",
     "output_type": "stream",
     "text": [
      "[168.72980024  82.0096999  116.02480046 127.70740042 120.78670096\n",
      " 154.60509688 149.92349878 126.25329985 117.55429854 126.03740044\n",
      " 116.67160062 172.70060068 141.00519766 167.72429854 115.14329998\n",
      " 117.22870057 138.2630034  170.26150086 159.68630241 160.8591993\n",
      " 154.72480034 125.65330004 176.50720012 157.00580311 125.22490033\n",
      "  93.82219971  77.69140002 120.73099998 119.11989951 167.35500057\n",
      "  88.04700101 125.18910013  91.15320088 117.61780063 121.21319928\n",
      " 136.83700108 115.51420115 115.2695009  148.3992996  107.24530085\n",
      " 104.51320266  87.15329814 126.62020035 118.12589956 152.49639909\n",
      " 120.00169964 108.36369977 107.84169818  93.00159977 127.0316977\n",
      "  74.73670069 113.62279911 121.33420034 111.34709916 118.96289905\n",
      " 120.79509919 159.44859948 167.8290009  147.09149655  85.89039843\n",
      "  94.26310014  86.75069843  90.62130032 119.00540052 126.57290057\n",
      " 127.5684998  170.71420062 122.21009926 117.58759877  98.42540061\n",
      " 168.2807012  142.92069798 132.25750287 121.1805021  120.75079939\n",
      " 119.77460037 114.27280172 118.23820059 107.15160083 127.89600174\n",
      " 113.64139985 107.63179976 116.68150081 119.68459863  88.88360058\n",
      "  88.17309854 146.23520218 127.02770056 113.19150021 110.17969805\n",
      " 108.17289903  77.43599892 168.90540145 114.10069898 121.4757995\n",
      " 127.94580178 154.96049776  91.70589905 135.98830081 158.77960348\n",
      " 125.56340037 125.49390066 130.45340161 114.76830098 119.73490017\n",
      "  92.13739995 110.4647992  169.5005999  156.13419892 114.28479951\n",
      " 106.52080139  79.70949988 113.33240008 125.85020098 106.97070001\n",
      " 119.13510087 155.97820258 159.68699974 120.38039994 134.63500235\n",
      " 101.40939973 117.58629777 119.2709002  112.94050091 102.79929853\n",
      " 160.35849835  99.07000025 148.10179872 125.39540066 169.50819979\n",
      " 125.91849863 127.31759753 127.43060169 113.80559949 113.032601\n",
      " 123.62049913 102.1380991   89.21530007 124.48559954 102.16079929\n",
      " 107.32769921 113.67140043 117.33360061  99.03759949 121.80930015\n",
      " 163.32759923  87.26359861 106.88879971 117.20800077 127.75900154\n",
      " 124.07020045  80.68379932 120.26290052 157.56259862  87.91409993\n",
      " 110.41639905 118.86119906 172.32869859 102.90989921 106.18650038\n",
      " 122.47950044 157.80539826  87.77509839  93.41700043 112.75190015\n",
      " 177.51449972 114.38079955 119.30600024  94.7649008  125.81490006\n",
      " 166.1919005  114.73110012 116.8674012   88.16759861 148.87840071\n",
      " 120.17289962  89.55229955 112.61640023 117.74250041 118.57000109\n",
      "  88.01569957  94.26590007 116.90900033 118.58320177 120.27190014\n",
      " 126.85929813 121.81229966 150.26670042 164.98230024 118.58439955\n",
      " 120.25090174 150.60300078 118.42719906 173.41189884 105.48329937\n",
      " 104.91830134 149.47750106 113.87880078 124.74030114 148.28049959\n",
      " 119.5937015  115.32880074 112.74260027 113.48480189 140.72560161\n",
      " 117.81939778 102.92390026 115.90610104 103.98880205  98.98900049\n",
      " 117.33090079  90.7428001   91.7276006  153.56009832 102.71739973\n",
      " 154.43170052 114.29330132 138.60560105  90.2748984  115.52049979\n",
      " 114.71489956 123.22650051 121.67580012 165.42400173  92.90349942\n",
      " 135.58870165 121.27069951 121.01720082 104.64380024 141.51860296\n",
      " 121.49549946 116.64100052 113.66710081 127.39119737 122.39469949\n",
      " 125.79939954 121.21800036  86.91069918 132.30960138 144.73660217\n",
      "  92.76429936 158.83170003 159.32170292 126.15689887 164.81969922\n",
      " 109.06979968 109.95910064 103.62249853  94.4228004  127.88330268\n",
      " 106.94760071 162.48950034 121.82080012 132.02880016 130.60540159\n",
      " 160.44100015  90.38609849 175.78020149 127.60299996 126.9829986\n",
      "  86.21699881 124.42409874 150.17649744  89.74609988 106.98899973\n",
      " 108.95779975  84.12519934 136.4698997  154.88780199 140.21920296\n",
      "  73.88710037 152.37460095 125.72780003 126.83119988 127.50599912\n",
      " 108.62429939 156.21570004 114.30680097 117.0480015  124.88989925\n",
      " 154.19090177 121.41649989 156.50179814  92.90730042 125.61880138\n",
      " 125.75800025  87.89770045  92.15309899 126.44939896 127.96980327\n",
      " 113.02289992 117.67489734 121.13940023 127.34289763 119.62400107\n",
      " 136.72230123  93.9577996  119.80250042 113.10270092  94.36919955\n",
      " 108.94019959  86.67909928 108.99419924  89.59040025  92.5490003\n",
      " 131.68060349 162.54460096  89.38290016 119.82900096 133.44660203\n",
      " 124.04320028 128.42560186 101.87619827  88.99469863 131.35219959\n",
      " 119.87250041 108.53699978 166.95860127 115.12770075  86.62059893\n",
      " 118.7463006   90.98119992 161.86330073 116.51800039 121.53970001\n",
      " 160.17579802 120.17229939 112.83729924 108.4195986  126.64719966\n",
      "  76.25970026 102.97449978 127.92320266 121.76759929  92.62800015\n",
      " 132.0268011  118.15010119 115.86650011 154.45920314 160.14340106\n",
      " 110.24499965 153.30689869 119.27710091 160.4491016  118.68610054\n",
      " 156.58149986 115.13219949 116.28460027 150.37069934 114.80910094\n",
      " 125.78459836 166.15369906 117.60209995 125.16189913 153.33500354\n",
      " 153.36630245 132.10380003 114.61630039 121.28880199 125.04790091\n",
      "  89.72360045 123.21269999 154.69670149 111.64880034 106.86239981\n",
      " 161.5603014  118.58759979 165.58450025 134.19080116 114.63289981\n",
      " 152.89289869 168.79700088 115.25710021 114.02290128 157.79399887\n",
      "  85.0824989  127.00880071 127.73460087 128.74239985 124.46480061\n",
      " 123.95050054  90.69350019 153.06800093  97.23089938 137.66309999\n",
      "  89.07669896 107.56779988 114.96300044 112.69450086 124.30679906\n",
      "  91.41319905 125.32170092 162.52009918 119.74649918 164.9804014\n",
      " 126.9261978  112.31100008 127.54459935  95.0665988   90.93469993\n",
      " 104.02209914 120.72219997  83.35409946 126.47489979 160.32150447\n",
      " 117.39260081 118.30679972 120.17489987 122.48289949 120.03450146\n",
      " 121.53760025 118.20560056 107.03120007 148.28420007 126.21799828\n",
      " 115.76690105  73.97380012 127.71710054 154.06790076 123.02599974\n",
      " 125.58290065  88.71070052 104.48809905 124.5380001  120.29770003\n",
      "  73.36270086 152.00879997 121.2312006  104.90090036  86.56729792\n",
      " 115.09029901 172.16969786 119.77880018 158.85599827 113.14189909\n",
      " 121.38450005 118.55340138  95.96369983 118.57500058 126.12350046\n",
      " 118.56869944  96.11670073 153.79320152 122.05740001 148.19400005\n",
      " 159.59490207 113.85640001 122.56109928 148.61089747 126.96030046\n",
      " 165.91480092 135.74570071 120.05199935 167.4149986  108.41479887\n",
      " 121.5941985  138.69880146 106.94499876]\n"
     ]
    }
   ],
   "source": [
    "print(test_data_prediction)"
   ]
  },
  {
   "cell_type": "markdown",
   "id": "42b603d2",
   "metadata": {},
   "source": [
    "# model evaluation"
   ]
  },
  {
   "cell_type": "code",
   "execution_count": 47,
   "id": "c70553ba",
   "metadata": {},
   "outputs": [
    {
     "name": "stdout",
     "output_type": "stream",
     "text": [
      "r squared error 0.9890893023274232\n"
     ]
    }
   ],
   "source": [
    "# r squared error \n",
    "error_score = metrics.r2_score(y_test , test_data_prediction)\n",
    "print('r squared error', error_score)"
   ]
  },
  {
   "cell_type": "markdown",
   "id": "50df9dd0",
   "metadata": {},
   "source": [
    "# comparing the actual values with predicted values"
   ]
  },
  {
   "cell_type": "code",
   "execution_count": 48,
   "id": "a8b2fffd",
   "metadata": {},
   "outputs": [],
   "source": [
    "y_test = list(y_test)"
   ]
  },
  {
   "cell_type": "code",
   "execution_count": 49,
   "id": "ce72b066",
   "metadata": {},
   "outputs": [
    {
     "data": {
      "image/png": "[encoded data removed]",
      "text/plain": [
       "<Figure size 432x288 with 1 Axes>"
      ]
     },
     "metadata": {
      "needs_background": "light"
     },
     "output_type": "display_data"
    }
   ],
   "source": [
    "plt.plot(y_test,color= 'blue', label = 'actual value')\n",
    "plt.plot(test_data_prediction, color = 'green' , label = 'predicted value')\n",
    "plt.title('actual value vs predicted value')\n",
    "plt.xlabel('number of value ')\n",
    "plt.ylabel('GLD price')\n",
    "plt.legend()\n",
    "plt.show()"
   ]
  },
  {
   "cell_type": "code",
   "execution_count": null,
   "id": "0af949cc",
   "metadata": {},
   "outputs": [],
   "source": []
  },
  {
   "cell_type": "code",
   "execution_count": null,
   "id": "d48fffcb",
   "metadata": {},
   "outputs": [],
   "source": []
  },
  {
   "cell_type": "code",
   "execution_count": null,
   "id": "b2692258",
   "metadata": {},
   "outputs": [],
   "source": []
  },
  {
   "cell_type": "code",
   "execution_count": null,
   "id": "3c62c1be",
   "metadata": {},
   "outputs": [],
   "source": []
  },
  {
   "cell_type": "code",
   "execution_count": null,
   "id": "ff977cd8",
   "metadata": {},
   "outputs": [],
   "source": []
  },
  {
   "cell_type": "code",
   "execution_count": null,
   "id": "2c167db5",
   "metadata": {},
   "outputs": [],
   "source": []
  },
  {
   "cell_type": "code",
   "execution_count": null,
   "id": "6f48088d",
   "metadata": {},
   "outputs": [],
   "source": []
  },
  {
   "cell_type": "code",
   "execution_count": null,
   "id": "0b2e8084",
   "metadata": {},
   "outputs": [],
   "source": []
  }
 ],
 "metadata": {
  "kernelspec": {
   "display_name": "Python 3 (ipykernel)",
   "language": "python",
   "name": "python3"
  },
  "language_info": {
   "codemirror_mode": {
    "name": "ipython",
    "version": 3
   },
   "file_extension": ".py",
   "mimetype": "text/x-python",
   "name": "python",
   "nbconvert_exporter": "python",
   "pygments_lexer": "ipython3",
   "version": "3.9.12"
  }
 },
 "nbformat": 4,
 "nbformat_minor": 5
}
